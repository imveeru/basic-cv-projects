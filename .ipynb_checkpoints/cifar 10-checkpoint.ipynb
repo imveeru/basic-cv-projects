{
 "cells": [
  {
   "cell_type": "markdown",
   "id": "485a6d4e",
   "metadata": {},
   "source": [
    "# CIFAR 10 Image Classification"
   ]
  },
  {
   "cell_type": "code",
   "execution_count": 1,
   "id": "7392f603",
   "metadata": {},
   "outputs": [],
   "source": [
    "import numpy as np\n",
    "import matplotlib.pyplot as plt\n",
    "import pandas as pd\n",
    "import tensorflow\n",
    "import tensorflow.keras"
   ]
  }
 ],
 "metadata": {
  "kernelspec": {
   "display_name": "Python 3 (ipykernel)",
   "language": "python",
   "name": "python3"
  },
  "language_info": {
   "codemirror_mode": {
    "name": "ipython",
    "version": 3
   },
   "file_extension": ".py",
   "mimetype": "text/x-python",
   "name": "python",
   "nbconvert_exporter": "python",
   "pygments_lexer": "ipython3",
   "version": "3.9.7"
  }
 },
 "nbformat": 4,
 "nbformat_minor": 5
}
