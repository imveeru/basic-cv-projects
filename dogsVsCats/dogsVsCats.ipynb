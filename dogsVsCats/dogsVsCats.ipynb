{
 "cells": [
  {
   "cell_type": "markdown",
   "id": "9262d2ce",
   "metadata": {},
   "source": [
    "# Dogs Vs Cats"
   ]
  },
  {
   "cell_type": "code",
   "execution_count": 2,
   "id": "0dc45091",
   "metadata": {},
   "outputs": [],
   "source": [
    "import numpy as np\n",
    "import matplotlib.pyplot as plt\n",
    "import pandas as pd\n",
    "import seaborn as sns\n",
    "import os\n",
    "import zipfile"
   ]
  },
  {
   "cell_type": "markdown",
   "id": "d16ebbc3",
   "metadata": {},
   "source": [
    "## EDA"
   ]
  },
  {
   "cell_type": "code",
   "execution_count": 3,
   "id": "d76a0088",
   "metadata": {},
   "outputs": [
    {
     "name": "stdout",
     "output_type": "stream",
     "text": [
      "Dir created successfully!\n"
     ]
    }
   ],
   "source": [
    "local_dir='./train.zip'\n",
    "os.mkdir('trainData')\n",
    "print('Dir created successfully!')"
   ]
  },
  {
   "cell_type": "code",
   "execution_count": 5,
   "id": "0f768336",
   "metadata": {},
   "outputs": [
    {
     "name": "stdout",
     "output_type": "stream",
     "text": [
      "Data Extracted Successfully!\n"
     ]
    }
   ],
   "source": [
    "zip_ref=zipfile.ZipFile(local_dir,'r')\n",
    "zip_ref.extractall('./trainData')\n",
    "print('Data Extracted Successfully!')\n",
    "zip_ref.close()"
   ]
  }
 ],
 "metadata": {
  "kernelspec": {
   "display_name": "Python 3 (ipykernel)",
   "language": "python",
   "name": "python3"
  },
  "language_info": {
   "codemirror_mode": {
    "name": "ipython",
    "version": 3
   },
   "file_extension": ".py",
   "mimetype": "text/x-python",
   "name": "python",
   "nbconvert_exporter": "python",
   "pygments_lexer": "ipython3",
   "version": "3.9.6"
  }
 },
 "nbformat": 4,
 "nbformat_minor": 5
}
