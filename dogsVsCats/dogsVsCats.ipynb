{
 "cells": [
  {
   "cell_type": "markdown",
   "id": "b9332631",
   "metadata": {},
   "source": [
    "# Dogs Vs Cats"
   ]
  },
  {
   "cell_type": "code",
   "execution_count": 2,
   "id": "4e720988",
   "metadata": {},
   "outputs": [],
   "source": [
    "import numpy as np\n",
    "import matplotlib.pyplot as plt\n",
    "import pandas as pd\n",
    "import seaborn as sns\n",
    "import os\n",
    "import zipfile"
   ]
  },
  {
   "cell_type": "markdown",
   "id": "63d7d808",
   "metadata": {},
   "source": [
    "## EDA"
   ]
  },
  {
   "cell_type": "code",
   "execution_count": 3,
   "id": "48ca6bb7",
   "metadata": {},
   "outputs": [
    {
     "name": "stdout",
     "output_type": "stream",
     "text": [
      "Dir created successfully!\n"
     ]
    }
   ],
   "source": [
    "local_dir='./train.zip'\n",
    "os.mkdir('trainData')\n",
    "print('Dir created successfully!')"
   ]
  },
  {
   "cell_type": "code",
   "execution_count": 5,
   "id": "adf039a2",
   "metadata": {},
   "outputs": [
    {
     "name": "stdout",
     "output_type": "stream",
     "text": [
      "Data Extracted Successfully!\n"
     ]
    }
   ],
   "source": [
    "zip_ref=zipfile.ZipFile(local_dir,'r')\n",
    "zip_ref.extractall('./trainData')\n",
    "print('Data Extracted Successfully!')\n",
    "zip_ref.close()"
   ]
  },
  {
   "cell_type": "code",
   "execution_count": 6,
   "id": "27615f2b",
   "metadata": {},
   "outputs": [
    {
     "data": {
      "text/plain": [
       "['cat.0.jpg', 'cat.1.jpg', 'cat.10.jpg', 'cat.100.jpg', 'cat.1000.jpg']"
      ]
     },
     "execution_count": 6,
     "metadata": {},
     "output_type": "execute_result"
    }
   ],
   "source": [
    "train_dir='./trainData/train'\n",
    "train_img_names=os.listdir(train_dir)\n",
    "train_img_names[0:5]"
   ]
  }
 ],
 "metadata": {
  "kernelspec": {
   "display_name": "Python 3 (ipykernel)",
   "language": "python",
   "name": "python3"
  },
  "language_info": {
   "codemirror_mode": {
    "name": "ipython",
    "version": 3
   },
   "file_extension": ".py",
   "mimetype": "text/x-python",
   "name": "python",
   "nbconvert_exporter": "python",
   "pygments_lexer": "ipython3",
   "version": "3.9.6"
  }
 },
 "nbformat": 4,
 "nbformat_minor": 5
}
