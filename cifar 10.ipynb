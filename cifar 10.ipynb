{
 "cells": [
  {
   "cell_type": "markdown",
   "id": "963aeb7d",
   "metadata": {},
   "source": [
    "# CIFAR 10 Image Classification"
   ]
  },
  {
   "cell_type": "code",
   "execution_count": 2,
   "id": "854f35a4",
   "metadata": {},
   "outputs": [],
   "source": [
    "import numpy as np\n",
    "import matplotlib.pyplot as plt\n",
    "import pandas as pd\n",
    "import tensorflow\n",
    "import tensorflow.keras\n",
    "from tensorflow.keras import datasets,layers,models"
   ]
  },
  {
   "cell_type": "markdown",
   "id": "232acb5c",
   "metadata": {},
   "source": [
    "## Load Data"
   ]
  },
  {
   "cell_type": "code",
   "execution_count": 15,
   "id": "e18596cf",
   "metadata": {},
   "outputs": [],
   "source": [
    "(X_train,y_train),(X_test,y_test)=datasets.cifar10.load_data()"
   ]
  },
  {
   "cell_type": "code",
   "execution_count": 16,
   "id": "ff08e541",
   "metadata": {},
   "outputs": [
    {
     "name": "stdout",
     "output_type": "stream",
     "text": [
      "Train Shape\n",
      "X:(50000, 32, 32, 3)   Y:(50000, 1)\n",
      "Test Shape\n",
      "X:(10000, 32, 32, 3)   Y:(10000, 1)\n"
     ]
    }
   ],
   "source": [
    "print(f'Train Shape\\nX:{X_train.shape}   Y:{y_train.shape}')\n",
    "print(f'Test Shape\\nX:{X_test.shape}   Y:{y_test.shape}')"
   ]
  },
  {
   "cell_type": "code",
   "execution_count": 17,
   "id": "b477de09",
   "metadata": {},
   "outputs": [
    {
     "data": {
      "text/plain": [
       "array([[6],\n",
       "       [9],\n",
       "       [9],\n",
       "       [4],\n",
       "       [1]], dtype=uint8)"
      ]
     },
     "execution_count": 17,
     "metadata": {},
     "output_type": "execute_result"
    }
   ],
   "source": [
    "y_train[0:5]"
   ]
  },
  {
   "cell_type": "code",
   "execution_count": 18,
   "id": "66a1f99d",
   "metadata": {},
   "outputs": [
    {
     "data": {
      "text/plain": [
       "array([6, 9, 9, 4, 1], dtype=uint8)"
      ]
     },
     "execution_count": 18,
     "metadata": {},
     "output_type": "execute_result"
    }
   ],
   "source": [
    "y_train=y_train.reshape(-1,)\n",
    "y_train[0:5]"
   ]
  },
  {
   "cell_type": "code",
   "execution_count": 19,
   "id": "0d94c87b",
   "metadata": {},
   "outputs": [
    {
     "data": {
      "text/plain": [
       "array([3, 8, 8, 0, 6], dtype=uint8)"
      ]
     },
     "execution_count": 19,
     "metadata": {},
     "output_type": "execute_result"
    }
   ],
   "source": [
    "y_test=y_test.reshape(-1,)\n",
    "y_test[0:5]"
   ]
  },
  {
   "cell_type": "code",
   "execution_count": 20,
   "id": "a15204c0",
   "metadata": {},
   "outputs": [],
   "source": [
    "classes = [\"airplane\",\"automobile\",\"bird\",\"cat\",\"deer\",\"dog\",\"frog\",\"horse\",\"ship\",\"truck\"]"
   ]
  },
  {
   "cell_type": "code",
   "execution_count": 21,
   "id": "f099aaa2",
   "metadata": {},
   "outputs": [],
   "source": [
    "def plot_sample(X,y,index):\n",
    "    plt.imshow(X[index])\n",
    "    plt.xlabel(classes[y[index]])"
   ]
  },
  {
   "cell_type": "code",
   "execution_count": 24,
   "id": "b0aab54d",
   "metadata": {},
   "outputs": [
    {
     "data": {
      "image/png": "[encoded data removed]",
      "text/plain": [
       "<Figure size 432x288 with 1 Axes>"
      ]
     },
     "metadata": {
      "needs_background": "light"
     },
     "output_type": "display_data"
    }
   ],
   "source": [
    "plot_sample(X_train,y_train,5)"
   ]
  },
  {
   "cell_type": "markdown",
   "id": "71afeb29",
   "metadata": {},
   "source": [
    "## Normalizing the train data"
   ]
  },
  {
   "cell_type": "code",
   "execution_count": 25,
   "id": "a73d187a",
   "metadata": {},
   "outputs": [],
   "source": [
    "X_train=X_train/255.0\n",
    "X_test=X_test/255.0"
   ]
  },
  {
   "cell_type": "markdown",
   "id": "b0a5cbe0",
   "metadata": {},
   "source": [
    "## Modelling"
   ]
  },
  {
   "cell_type": "code",
   "execution_count": 27,
   "id": "b71b35fe",
   "metadata": {},
   "outputs": [
    {
     "data": {
      "text/plain": [
       "(32, 32, 3)"
      ]
     },
     "execution_count": 27,
     "metadata": {},
     "output_type": "execute_result"
    }
   ],
   "source": [
    "input_shape=X_train[1].shape\n",
    "input_shape"
   ]
  },
  {
   "cell_type": "code",
   "execution_count": 28,
   "id": "03281aa5",
   "metadata": {},
   "outputs": [],
   "source": [
    "ann=models.Sequential([\n",
    "    layers.Flatten(input_shape=input_shape),\n",
    "    layers.Dense(5000,activation='relu'),\n",
    "    layers.Dense(3000,activation='relu'),\n",
    "    layers.Dense(1000,activation='relu'),\n",
    "    layers.Dense(500,activation='relu'),\n",
    "    layers.Dense(10,activation='softmax')\n",
    "])"
   ]
  },
  {
   "cell_type": "code",
   "execution_count": 29,
   "id": "c07cb9c6",
   "metadata": {},
   "outputs": [
    {
     "name": "stdout",
     "output_type": "stream",
     "text": [
      "Model: \"sequential\"\n",
      "_________________________________________________________________\n",
      "Layer (type)                 Output Shape              Param #   \n",
      "=================================================================\n",
      "flatten (Flatten)            (None, 3072)              0         \n",
      "_________________________________________________________________\n",
      "dense (Dense)                (None, 5000)              15365000  \n",
      "_________________________________________________________________\n",
      "dense_1 (Dense)              (None, 3000)              15003000  \n",
      "_________________________________________________________________\n",
      "dense_2 (Dense)              (None, 1000)              3001000   \n",
      "_________________________________________________________________\n",
      "dense_3 (Dense)              (None, 500)               500500    \n",
      "_________________________________________________________________\n",
      "dense_4 (Dense)              (None, 10)                5010      \n",
      "=================================================================\n",
      "Total params: 33,874,510\n",
      "Trainable params: 33,874,510\n",
      "Non-trainable params: 0\n",
      "_________________________________________________________________\n"
     ]
    }
   ],
   "source": [
    "ann.summary()"
   ]
  },
  {
   "cell_type": "code",
   "execution_count": 32,
   "id": "bd04c590",
   "metadata": {},
   "outputs": [],
   "source": [
    "ann.compile(optimizer='SGD',loss='sparse_categorical_crossentropy',metrics=['accuracy'])"
   ]
  },
  {
   "cell_type": "code",
   "execution_count": 33,
   "id": "f56d6d00",
   "metadata": {},
   "outputs": [
    {
     "name": "stdout",
     "output_type": "stream",
     "text": [
      "Epoch 1/10\n",
      "1563/1563 [==============================] - 184s 117ms/step - loss: 1.8142 - accuracy: 0.3490\n",
      "Epoch 2/10\n",
      "1563/1563 [==============================] - 183s 117ms/step - loss: 1.6072 - accuracy: 0.4280\n",
      "Epoch 3/10\n",
      "1563/1563 [==============================] - 190s 121ms/step - loss: 1.5155 - accuracy: 0.4612\n",
      "Epoch 4/10\n",
      "1563/1563 [==============================] - 185s 118ms/step - loss: 1.4478 - accuracy: 0.4866\n",
      "Epoch 5/10\n",
      "1563/1563 [==============================] - 190s 121ms/step - loss: 1.3902 - accuracy: 0.5061\n",
      "Epoch 6/10\n",
      "1563/1563 [==============================] - 194s 124ms/step - loss: 1.3397 - accuracy: 0.5263\n",
      "Epoch 7/10\n",
      "1563/1563 [==============================] - 183s 117ms/step - loss: 1.2929 - accuracy: 0.5429\n",
      "Epoch 8/10\n",
      "1563/1563 [==============================] - 190s 122ms/step - loss: 1.2520 - accuracy: 0.5579\n",
      "Epoch 9/10\n",
      "1563/1563 [==============================] - 190s 122ms/step - loss: 1.2112 - accuracy: 0.5722\n",
      "Epoch 10/10\n",
      "1563/1563 [==============================] - 203s 130ms/step - loss: 1.1677 - accuracy: 0.5861\n"
     ]
    },
    {
     "data": {
      "text/plain": [
       "<tensorflow.python.keras.callbacks.History at 0x264ed2de460>"
      ]
     },
     "execution_count": 33,
     "metadata": {},
     "output_type": "execute_result"
    }
   ],
   "source": [
    "ann.fit(X_train,y_train,epochs=10)"
   ]
  },
  {
   "cell_type": "code",
   "execution_count": 37,
   "id": "18515084",
   "metadata": {},
   "outputs": [
    {
     "name": "stdout",
     "output_type": "stream",
     "text": [
      "Classification Report:\n",
      "              precision    recall  f1-score   support\n",
      "\n",
      "           0       0.76      0.30      0.43      1000\n",
      "           1       0.68      0.60      0.64      1000\n",
      "           2       0.36      0.39      0.38      1000\n",
      "           3       0.34      0.26      0.29      1000\n",
      "           4       0.42      0.37      0.39      1000\n",
      "           5       0.36      0.48      0.42      1000\n",
      "           6       0.32      0.88      0.47      1000\n",
      "           7       0.72      0.43      0.53      1000\n",
      "           8       0.73      0.53      0.61      1000\n",
      "           9       0.72      0.43      0.54      1000\n",
      "\n",
      "    accuracy                           0.47     10000\n",
      "   macro avg       0.54      0.47      0.47     10000\n",
      "weighted avg       0.54      0.47      0.47     10000\n",
      "\n"
     ]
    }
   ],
   "source": [
    "from sklearn.metrics import confusion_matrix,classification_report\n",
    "y_pred=ann.predict(X_test)\n",
    "y_pred_classes=[np.argmax(e) for e in y_pred]\n",
    "\n",
    "print(f'Classification Report:\\n{classification_report(y_test,y_pred_classes)}')"
   ]
  },
  {
   "cell_type": "markdown",
   "id": "bcb0f02c",
   "metadata": {},
   "source": [
    "ANN model has an accuracy of 47%"
   ]
  },
  {
   "cell_type": "code",
   "execution_count": 44,
   "id": "7ba11098",
   "metadata": {},
   "outputs": [],
   "source": [
    "cnn=models.Sequential([\n",
    "    layers.Conv2D(filters=32,kernel_size=(3,3),activation='relu',input_shape=input_shape),\n",
    "    layers.MaxPooling2D((2,2)),\n",
    "    layers.Conv2D(filters=64,kernel_size=(3,3),activation='relu'),\n",
    "    layers.MaxPooling2D((2,2)),\n",
    "    layers.Flatten(),\n",
    "    layers.Dense(128,activation='relu'),\n",
    "    layers.Dense(64,activation='relu'),\n",
    "    layers.Dense(10,activation='softmax')\n",
    "])"
   ]
  },
  {
   "cell_type": "code",
   "execution_count": 45,
   "id": "2db4a1f6",
   "metadata": {},
   "outputs": [
    {
     "name": "stdout",
     "output_type": "stream",
     "text": [
      "Model: \"sequential_2\"\n",
      "_________________________________________________________________\n",
      "Layer (type)                 Output Shape              Param #   \n",
      "=================================================================\n",
      "conv2d_7 (Conv2D)            (None, 30, 30, 32)        896       \n",
      "_________________________________________________________________\n",
      "max_pooling2d_6 (MaxPooling2 (None, 15, 15, 32)        0         \n",
      "_________________________________________________________________\n",
      "conv2d_8 (Conv2D)            (None, 13, 13, 64)        18496     \n",
      "_________________________________________________________________\n",
      "max_pooling2d_7 (MaxPooling2 (None, 6, 6, 64)          0         \n",
      "_________________________________________________________________\n",
      "flatten_4 (Flatten)          (None, 2304)              0         \n",
      "_________________________________________________________________\n",
      "dense_10 (Dense)             (None, 128)               295040    \n",
      "_________________________________________________________________\n",
      "dense_11 (Dense)             (None, 64)                8256      \n",
      "_________________________________________________________________\n",
      "dense_12 (Dense)             (None, 10)                650       \n",
      "=================================================================\n",
      "Total params: 323,338\n",
      "Trainable params: 323,338\n",
      "Non-trainable params: 0\n",
      "_________________________________________________________________\n"
     ]
    }
   ],
   "source": [
    "cnn.summary()"
   ]
  },
  {
   "cell_type": "code",
   "execution_count": 47,
   "id": "9d0d93d4",
   "metadata": {},
   "outputs": [],
   "source": [
    "cnn.compile(optimizer='adam',\n",
    "           loss='sparse_categorical_crossentropy',\n",
    "           metrics=['accuracy'])"
   ]
  },
  {
   "cell_type": "code",
   "execution_count": 48,
   "id": "1e0348c5",
   "metadata": {},
   "outputs": [
    {
     "name": "stdout",
     "output_type": "stream",
     "text": [
      "Epoch 1/10\n",
      "1563/1563 [==============================] - 33s 20ms/step - loss: 1.4112 - accuracy: 0.4912\n",
      "Epoch 2/10\n",
      "1563/1563 [==============================] - 31s 20ms/step - loss: 1.0630 - accuracy: 0.6254\n",
      "Epoch 3/10\n",
      "1563/1563 [==============================] - 31s 20ms/step - loss: 0.9019 - accuracy: 0.6848\n",
      "Epoch 4/10\n",
      "1563/1563 [==============================] - 32s 20ms/step - loss: 0.7865 - accuracy: 0.72360s - loss: 0.786\n",
      "Epoch 5/10\n",
      "1563/1563 [==============================] - 32s 20ms/step - loss: 0.6964 - accuracy: 0.7564\n",
      "Epoch 6/10\n",
      "1563/1563 [==============================] - 34s 22ms/step - loss: 0.6110 - accuracy: 0.7849\n",
      "Epoch 7/10\n",
      "1563/1563 [==============================] - 31s 20ms/step - loss: 0.5398 - accuracy: 0.8092\n",
      "Epoch 8/10\n",
      "1563/1563 [==============================] - 31s 20ms/step - loss: 0.4681 - accuracy: 0.8359\n",
      "Epoch 9/10\n",
      "1563/1563 [==============================] - 33s 21ms/step - loss: 0.3992 - accuracy: 0.8607\n",
      "Epoch 10/10\n",
      "1563/1563 [==============================] - 34s 22ms/step - loss: 0.3504 - accuracy: 0.8765\n",
      "Wall time: 5min 22s\n"
     ]
    },
    {
     "data": {
      "text/plain": [
       "<tensorflow.python.keras.callbacks.History at 0x2648d15a8e0>"
      ]
     },
     "execution_count": 48,
     "metadata": {},
     "output_type": "execute_result"
    }
   ],
   "source": [
    "%%time\n",
    "cnn.fit(X_train,y_train,epochs=10)"
   ]
  },
  {
   "cell_type": "code",
   "execution_count": 49,
   "id": "c7f7fb93",
   "metadata": {},
   "outputs": [
    {
     "name": "stdout",
     "output_type": "stream",
     "text": [
      "313/313 [==============================] - 4s 11ms/step - loss: 1.0924 - accuracy: 0.6958\n"
     ]
    },
    {
     "data": {
      "text/plain": [
       "[1.0924397706985474, 0.6958000063896179]"
      ]
     },
     "execution_count": 49,
     "metadata": {},
     "output_type": "execute_result"
    }
   ],
   "source": [
    "cnn.evaluate(X_test,y_test)"
   ]
  },
  {
   "cell_type": "code",
   "execution_count": 51,
   "id": "fad64747",
   "metadata": {},
   "outputs": [
    {
     "data": {
      "text/plain": [
       "array([[4.0132418e-05, 4.8606100e-05, 3.5441623e-04, 8.8593841e-01,\n",
       "        1.2848543e-03, 1.1193042e-01, 2.3359047e-04, 1.1037016e-05,\n",
       "        1.5706351e-04, 1.4222792e-06],\n",
       "       [1.7460253e-02, 1.7131411e-03, 2.0885628e-07, 4.8326100e-08,\n",
       "        6.6959049e-11, 4.4854159e-10, 1.8122442e-10, 7.6441744e-08,\n",
       "        9.7878301e-01, 2.0432970e-03],\n",
       "       [1.0162691e-02, 5.6553590e-01, 5.5397599e-04, 1.6867951e-02,\n",
       "        1.1178107e-03, 1.4026170e-03, 3.9120606e-04, 1.2866278e-03,\n",
       "        3.2205883e-01, 8.0622442e-02],\n",
       "       [6.0675913e-01, 9.7701088e-02, 2.4231903e-02, 3.4054948e-04,\n",
       "        1.5368538e-03, 9.4148154e-06, 5.3280120e-04, 3.4163579e-05,\n",
       "        2.6396140e-01, 4.8927623e-03],\n",
       "       [9.1729113e-09, 1.5370016e-06, 9.7027160e-03, 3.6685627e-02,\n",
       "        7.4060492e-02, 1.1130819e-02, 8.6841768e-01, 1.4689401e-07,\n",
       "        8.4613288e-07, 2.1931439e-07]], dtype=float32)"
      ]
     },
     "execution_count": 51,
     "metadata": {},
     "output_type": "execute_result"
    }
   ],
   "source": [
    "y_pred=cnn.predict(X_test)\n",
    "y_pred[:5]"
   ]
  },
  {
   "cell_type": "code",
   "execution_count": 53,
   "id": "1e119374",
   "metadata": {},
   "outputs": [
    {
     "data": {
      "text/plain": [
       "[3, 8, 1, 0, 6]"
      ]
     },
     "execution_count": 53,
     "metadata": {},
     "output_type": "execute_result"
    }
   ],
   "source": [
    "y_classes=[np.argmax(e) for e in y_pred]\n",
    "y_classes[:5]"
   ]
  },
  {
   "cell_type": "code",
   "execution_count": 54,
   "id": "0d3decf1",
   "metadata": {},
   "outputs": [
    {
     "data": {
      "text/plain": [
       "array([3, 8, 8, 0, 6], dtype=uint8)"
      ]
     },
     "execution_count": 54,
     "metadata": {},
     "output_type": "execute_result"
    }
   ],
   "source": [
    "y_test[:5]"
   ]
  },
  {
   "cell_type": "code",
   "execution_count": 61,
   "id": "2c6ebf11",
   "metadata": {},
   "outputs": [
    {
     "data": {
      "image/png": "[encoded data removed]",
      "text/plain": [
       "<Figure size 432x288 with 1 Axes>"
      ]
     },
     "metadata": {
      "needs_background": "light"
     },
     "output_type": "display_data"
    }
   ],
   "source": [
    "plot_sample(X_test,y_test,0)"
   ]
  },
  {
   "cell_type": "code",
   "execution_count": 62,
   "id": "4024ab5a",
   "metadata": {},
   "outputs": [
    {
     "data": {
      "text/plain": [
       "'cat'"
      ]
     },
     "execution_count": 62,
     "metadata": {},
     "output_type": "execute_result"
    }
   ],
   "source": [
    "classes[y_classes[0]]"
   ]
  },
  {
   "cell_type": "markdown",
   "id": "7482d4e5",
   "metadata": {},
   "source": [
    "The CNN model has an accuracy of 87.6% in train dataset and 69.5% in test dataset."
   ]
  }
 ],
 "metadata": {
  "kernelspec": {
   "display_name": "Python 3 (ipykernel)",
   "language": "python",
   "name": "python3"
  },
  "language_info": {
   "codemirror_mode": {
    "name": "ipython",
    "version": 3
   },
   "file_extension": ".py",
   "mimetype": "text/x-python",
   "name": "python",
   "nbconvert_exporter": "python",
   "pygments_lexer": "ipython3",
   "version": "3.9.7"
  }
 },
 "nbformat": 4,
 "nbformat_minor": 5
}
